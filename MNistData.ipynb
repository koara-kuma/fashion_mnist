{
  "nbformat": 4,
  "nbformat_minor": 0,
  "metadata": {
    "colab": {
      "provenance": []
    },
    "kernelspec": {
      "name": "python3",
      "display_name": "Python 3"
    },
    "language_info": {
      "name": "python"
    }
  },
  "cells": [
    {
      "cell_type": "code",
      "execution_count": null,
      "metadata": {
        "id": "ecMkWGW_gXrB"
      },
      "outputs": [],
      "source": [
        "%matplotlib inline"
      ]
    },
    {
      "cell_type": "code",
      "source": [
        "import numpy as np\n",
        "import matplotlib.pyplot as plt\n",
        "import random\n",
        "from keras.datasets import fashion_mnist\n",
        "from keras.models import Sequential\n",
        "from keras.layers.core import Dense, Dropout, Activation\n",
        "from keras.utils import np_utils\n"
      ],
      "metadata": {
        "id": "5ulSjzxMgcG0"
      },
      "execution_count": 16,
      "outputs": []
    },
    {
      "cell_type": "code",
      "source": [
        "(X_train, y_train), (X_test, y_test) = fashion_mnist.load_data() #loading the data\n",
        "\n",
        "\n",
        "\n",
        "\n"
      ],
      "metadata": {
        "id": "uBq3R8wmhMUG"
      },
      "execution_count": 15,
      "outputs": []
    },
    {
      "cell_type": "code",
      "source": [
        "# Reshape and normalize the input data\n",
        "X_train = X_train.reshape(X_train.shape[0], 784).astype('float32') / 255\n",
        "X_test = X_test.reshape(X_test.shape[0], 784).astype('float32') / 255\n",
        "\n",
        "# Convert the labels to one-hot encoded vectors\n",
        "y_train = np_utils.to_categorical(y_train, 10)\n",
        "y_test = np_utils.to_categorical(y_test, 10)\n"
      ],
      "metadata": {
        "id": "FWIUl0rwkRLa"
      },
      "execution_count": 17,
      "outputs": []
    },
    {
      "cell_type": "code",
      "source": [
        "model = Sequential()\n",
        "model.add(Dense(512, input_shape=(784,)))\n",
        "model.add(Activation('relu'))\n",
        "model.add(Dropout(0.2))\n",
        "model.add(Dense(512))\n",
        "model.add(Activation('relu'))\n",
        "model.add(Dropout(0.2))\n",
        "model.add(Dense(10))\n",
        "model.add(Activation('softmax'))\n"
      ],
      "metadata": {
        "id": "5ImK3kjGkVwx"
      },
      "execution_count": 18,
      "outputs": []
    },
    {
      "cell_type": "code",
      "source": [
        "model.compile(loss='categorical_crossentropy', optimizer='adam', metrics=['accuracy'])\n"
      ],
      "metadata": {
        "id": "64hBNH96kYox"
      },
      "execution_count": 19,
      "outputs": []
    },
    {
      "cell_type": "code",
      "source": [
        "history = model.fit(X_train, y_train, batch_size=128, epochs=10, validation_data=(X_test, y_test))\n"
      ],
      "metadata": {
        "id": "yCczIU4Pkaup",
        "outputId": "12a2da85-7417-47c9-cefb-d344ed37109d",
        "colab": {
          "base_uri": "https://localhost:8080/"
        }
      },
      "execution_count": 20,
      "outputs": [
        {
          "output_type": "stream",
          "name": "stdout",
          "text": [
            "Epoch 1/10\n",
            "469/469 [==============================] - 13s 23ms/step - loss: 0.5144 - accuracy: 0.8153 - val_loss: 0.4092 - val_accuracy: 0.8548\n",
            "Epoch 2/10\n",
            "469/469 [==============================] - 13s 28ms/step - loss: 0.3830 - accuracy: 0.8603 - val_loss: 0.3890 - val_accuracy: 0.8589\n",
            "Epoch 3/10\n",
            "469/469 [==============================] - 13s 28ms/step - loss: 0.3481 - accuracy: 0.8719 - val_loss: 0.3658 - val_accuracy: 0.8668\n",
            "Epoch 4/10\n",
            "469/469 [==============================] - 12s 25ms/step - loss: 0.3272 - accuracy: 0.8788 - val_loss: 0.3440 - val_accuracy: 0.8777\n",
            "Epoch 5/10\n",
            "469/469 [==============================] - 12s 25ms/step - loss: 0.3096 - accuracy: 0.8846 - val_loss: 0.3503 - val_accuracy: 0.8725\n",
            "Epoch 6/10\n",
            "469/469 [==============================] - 11s 24ms/step - loss: 0.2965 - accuracy: 0.8881 - val_loss: 0.3591 - val_accuracy: 0.8720\n",
            "Epoch 7/10\n",
            "469/469 [==============================] - 13s 28ms/step - loss: 0.2880 - accuracy: 0.8935 - val_loss: 0.3318 - val_accuracy: 0.8842\n",
            "Epoch 8/10\n",
            "469/469 [==============================] - 10s 21ms/step - loss: 0.2796 - accuracy: 0.8949 - val_loss: 0.3181 - val_accuracy: 0.8864\n",
            "Epoch 9/10\n",
            "469/469 [==============================] - 11s 24ms/step - loss: 0.2674 - accuracy: 0.8997 - val_loss: 0.3172 - val_accuracy: 0.8876\n",
            "Epoch 10/10\n",
            "469/469 [==============================] - 12s 25ms/step - loss: 0.2621 - accuracy: 0.9010 - val_loss: 0.3305 - val_accuracy: 0.8838\n"
          ]
        }
      ]
    },
    {
      "cell_type": "code",
      "source": [
        "test_loss, test_accuracy = model.evaluate(X_test, y_test, verbose=0)\n",
        "print('Test loss:', test_loss)\n",
        "print('Test accuracy:', test_accuracy)\n"
      ],
      "metadata": {
        "id": "W7LLVFv1kgI6",
        "outputId": "56454b41-0c40-4aa2-baef-6f995dec0656",
        "colab": {
          "base_uri": "https://localhost:8080/"
        }
      },
      "execution_count": 21,
      "outputs": [
        {
          "output_type": "stream",
          "name": "stdout",
          "text": [
            "Test loss: 0.3304958939552307\n",
            "Test accuracy: 0.8838000297546387\n"
          ]
        }
      ]
    }
  ]
}